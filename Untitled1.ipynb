{
 "cells": [
  {
   "cell_type": "code",
   "execution_count": 11,
   "id": "b6b88df9-4e8f-4c33-a1e6-665dee2631c6",
   "metadata": {
    "tags": []
   },
   "outputs": [],
   "source": [
    "%load_ext rich"
   ]
  },
  {
   "cell_type": "code",
   "execution_count": 8,
   "id": "cffa86e5-b508-4808-b354-e07e3ef522f3",
   "metadata": {
    "tags": []
   },
   "outputs": [
    {
     "name": "stdout",
     "output_type": "stream",
     "text": [
      "my_function(arg1: int, arg2: str = 'default') -> bool\n",
      "This is a sample function.\n",
      "\n",
      "Parameters:\n",
      "arg1 (int): Description for arg1.\n",
      "arg2 (str): Description for arg2. Defaults to 'default'.\n",
      "\n",
      "Returns:\n",
      "bool: Description of return value.\n"
     ]
    }
   ],
   "source": [
    "import inspect\n",
    "from functools import wraps\n",
    "\n",
    "def add_signature_property(func):\n",
    "    @wraps(func)\n",
    "    def wrapper(*args, **kwargs):\n",
    "        return func(*args, **kwargs)\n",
    "\n",
    "    # Getting the docstring\n",
    "    docstring = inspect.getdoc(func)\n",
    "    if not docstring:\n",
    "        docstring = \"No docstring provided.\"\n",
    "\n",
    "    # Getting the signature\n",
    "    signature = str(inspect.signature(func))\n",
    "\n",
    "    # Combining docstring and signature\n",
    "    combined = f\"{func.__name__}{signature}\\n{docstring}\"\n",
    "\n",
    "    # Attaching the combined signature and docstring\n",
    "    wrapper.signature = combined\n",
    "    return wrapper\n",
    "\n",
    "# Example usage\n",
    "@add_signature_property\n",
    "def my_function(arg1: int, arg2: str = \"default\") -> bool:\n",
    "    \"\"\"\n",
    "    This is a sample function.\n",
    "\n",
    "    Parameters:\n",
    "    arg1 (int): Description for arg1.\n",
    "    arg2 (str): Description for arg2. Defaults to 'default'.\n",
    "\n",
    "    Returns:\n",
    "    bool: Description of return value.\n",
    "    \"\"\"\n",
    "    return True\n",
    "\n",
    "# Accessing the signature\n",
    "print(my_function.signature)"
   ]
  },
  {
   "cell_type": "code",
   "execution_count": null,
   "id": "9ecbba65-5f9f-4c25-bca2-ab625fa8945f",
   "metadata": {},
   "outputs": [],
   "source": []
  },
  {
   "cell_type": "code",
   "execution_count": null,
   "id": "11d49ded-3139-4b74-a118-c49e7b6b1bfe",
   "metadata": {},
   "outputs": [],
   "source": []
  },
  {
   "cell_type": "code",
   "execution_count": null,
   "id": "e5d4edad-3ed5-4de1-98e7-5579cf71d561",
   "metadata": {},
   "outputs": [],
   "source": [
    "def parse_google_docstring()"
   ]
  },
  {
   "cell_type": "code",
   "execution_count": null,
   "id": "781052f0-c720-439c-b811-65a27af6d1a5",
   "metadata": {},
   "outputs": [],
   "source": []
  },
  {
   "cell_type": "code",
   "execution_count": 16,
   "id": "0b30445d-c286-4dec-8b6f-ae12fcc6dfd9",
   "metadata": {
    "tags": []
   },
   "outputs": [
    {
     "name": "stdout",
     "output_type": "stream",
     "text": [
      "{'docstring': \"This is a sample function.\\n\\nArgs:\\n    arg1 (int): Description for arg1.\\n    arg2 (str): Description for arg2. Defaults to 'default'.\\n\\nReturns:\\n    bool: Description of return value.\", 'args': {'arg1': {'type': \"<class 'int'>\", 'description': 'No description'}, 'arg2': {'type': \"<class 'str'>\", 'description': 'No description'}}}\n"
     ]
    }
   ],
   "source": [
    "\n",
    "def parse_docstring(docstring):\n",
    "    \"\"\"\n",
    "    Parses the docstring to extract parameter descriptions.\n",
    "    Assumes Google or NumPy style docstrings.\n",
    "    \"\"\"\n",
    "    lines = docstring.split('\\n')\n",
    "    params = {}\n",
    "    current_param = None\n",
    "\n",
    "    for line in lines:\n",
    "        line = line.strip()\n",
    "        if line.startswith('Parameters:') or line.startswith('Args:'):\n",
    "            current_param = 'param'\n",
    "        elif line.startswith('Returns:') or line.startswith('Yields:'):\n",
    "            current_param = None\n",
    "        elif current_param:\n",
    "            parts = line.split(':')\n",
    "            if len(parts) >= 2:\n",
    "                param_name = parts[0].strip()\n",
    "                param_desc = parts[1].strip()\n",
    "                if ',' in param_name:  # For Google style (param, type)\n",
    "                    param_name, param_type = [p.strip() for p in param_name.split(',')]\n",
    "                else:  # For NumPy style\n",
    "                    # Assuming the next line contains the type\n",
    "                    param_type = 'Unknown'\n",
    "                params[param_name] = {'type': param_type, 'description': param_desc}\n",
    "\n",
    "    return params\n",
    "\n",
    "def add_signature_property(func):\n",
    "    @wraps(func)\n",
    "    def wrapper(*args, **kwargs):\n",
    "        return func(*args, **kwargs)\n",
    "\n",
    "    # Getting the docstring\n",
    "    docstring = inspect.getdoc(func)\n",
    "    if not docstring:\n",
    "        docstring = \"No docstring provided.\"\n",
    "\n",
    "    # Parsing docstring\n",
    "    parsed_docstring = parse_docstring(docstring)\n",
    "\n",
    "    # Getting the signature\n",
    "    signature = inspect.signature(func)\n",
    "\n",
    "    # Creating the dictionary\n",
    "    info = {\n",
    "        \"docstring\": docstring,\n",
    "        \"args\": {}\n",
    "    }\n",
    "    for name, param in signature.parameters.items():\n",
    "        info[\"args\"][name] = {\n",
    "            \"type\": str(param.annotation),\n",
    "            \"description\": parsed_docstring.get(name, {}).get('description', 'No description')\n",
    "        }\n",
    "\n",
    "    wrapper.signature = info\n",
    "    return wrapper\n",
    "\n",
    "# Example usage\n",
    "@add_signature_property\n",
    "def my_function(arg1: int, arg2: str = \"default\") -> bool:\n",
    "    \"\"\"\n",
    "    This is a sample function.\n",
    "\n",
    "    Args:\n",
    "        arg1 (int): Description for arg1.\n",
    "        arg2 (str): Description for arg2. Defaults to 'default'.\n",
    "\n",
    "    Returns:\n",
    "        bool: Description of return value.\n",
    "    \"\"\"\n",
    "    return True\n",
    "\n",
    "# Accessing the signature\n",
    "print(my_function.signature)"
   ]
  },
  {
   "cell_type": "code",
   "execution_count": 21,
   "id": "898932b6-4c6f-47cc-914b-4e814b504609",
   "metadata": {
    "tags": []
   },
   "outputs": [
    {
     "data": {
      "text/html": [
       "<pre style=\"white-space:pre;overflow-x:auto;line-height:normal;font-family:Menlo,'DejaVu Sans Mono',consolas,'Courier New',monospace\"></pre>\n"
      ],
      "text/plain": []
     },
     "metadata": {},
     "output_type": "display_data"
    },
    {
     "data": {
      "text/plain": [
       "\u001b[32m\"\u001b[0m\u001b[32m<\u001b[0m\u001b[32mclass\u001b[0m\u001b[32m 'int'\u001b[0m\u001b[32m>\u001b[0m\u001b[32m\"\u001b[0m"
      ]
     },
     "execution_count": 21,
     "metadata": {},
     "output_type": "execute_result"
    }
   ],
   "source": [
    "my_function.signature[\"args\"][\"arg1\"][\"type\"]"
   ]
  },
  {
   "cell_type": "code",
   "execution_count": 22,
   "id": "fd8dc778-992c-4991-82a9-df5c19226cc6",
   "metadata": {
    "tags": []
   },
   "outputs": [],
   "source": [
    "from docstring_parser import parse"
   ]
  },
  {
   "cell_type": "code",
   "execution_count": 41,
   "id": "f3185a15-0794-4b7c-b60e-596862313406",
   "metadata": {
    "tags": []
   },
   "outputs": [],
   "source": [
    "docstring = \"\"\"_summary_\n",
    "\n",
    "    Args:\n",
    "        a (float): _description_\n",
    "        b (str | None, optional): _description_. Defaults to None.\n",
    "\n",
    "    Returns:\n",
    "        Union[int, str]: _description_\n",
    "    \"\"\"\n",
    "parsed = parse(docstring)"
   ]
  },
  {
   "cell_type": "code",
   "execution_count": 42,
   "id": "175443a2-9130-49ed-89ee-f68b8c20d79c",
   "metadata": {
    "tags": []
   },
   "outputs": [
    {
     "data": {
      "text/html": [
       "<pre style=\"white-space:pre;overflow-x:auto;line-height:normal;font-family:Menlo,'DejaVu Sans Mono',consolas,'Courier New',monospace\"></pre>\n"
      ],
      "text/plain": []
     },
     "metadata": {},
     "output_type": "display_data"
    },
    {
     "data": {
      "text/plain": [
       "\u001b[32m'_summary_'\u001b[0m"
      ]
     },
     "execution_count": 42,
     "metadata": {},
     "output_type": "execute_result"
    }
   ],
   "source": [
    "parsed.short_description"
   ]
  },
  {
   "cell_type": "code",
   "execution_count": 43,
   "id": "13c586fd-e368-4862-9d23-c734b2d98196",
   "metadata": {
    "tags": []
   },
   "outputs": [
    {
     "data": {
      "text/html": [
       "<pre style=\"white-space:pre;overflow-x:auto;line-height:normal;font-family:Menlo,'DejaVu Sans Mono',consolas,'Courier New',monospace\"></pre>\n"
      ],
      "text/plain": []
     },
     "metadata": {},
     "output_type": "display_data"
    },
    {
     "data": {
      "text/plain": [
       "\u001b[32m'str | None'\u001b[0m"
      ]
     },
     "execution_count": 43,
     "metadata": {},
     "output_type": "execute_result"
    }
   ],
   "source": [
    "parsed.params[1].type_name"
   ]
  },
  {
   "cell_type": "code",
   "execution_count": null,
   "id": "1c8e3014-aced-43f2-a9ad-1bad349bffd3",
   "metadata": {},
   "outputs": [],
   "source": []
  }
 ],
 "metadata": {
  "kernelspec": {
   "display_name": "llama-langchain-new",
   "language": "python",
   "name": "llama-langchain-new"
  },
  "language_info": {
   "codemirror_mode": {
    "name": "ipython",
    "version": 3
   },
   "file_extension": ".py",
   "mimetype": "text/x-python",
   "name": "python",
   "nbconvert_exporter": "python",
   "pygments_lexer": "ipython3",
   "version": "3.10.13"
  }
 },
 "nbformat": 4,
 "nbformat_minor": 5
}
