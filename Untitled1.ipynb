{
 "cells": [
  {
   "cell_type": "code",
   "execution_count": 1,
   "metadata": {
    "tags": []
   },
   "outputs": [],
   "source": [
    "%load_ext rich\n",
    "%load_ext autoreload\n",
    "%autoreload 2"
   ]
  },
  {
   "cell_type": "code",
   "execution_count": 2,
   "metadata": {},
   "outputs": [],
   "source": [
    "from oai_function.signature import detect_type, resolve_arg_type, create_openai_signature"
   ]
  },
  {
   "cell_type": "code",
   "execution_count": 3,
   "metadata": {},
   "outputs": [],
   "source": [
    "from oai_function import oai_function"
   ]
  },
  {
   "cell_type": "code",
   "execution_count": 18,
   "metadata": {},
   "outputs": [],
   "source": [
    "@oai_function\n",
    "def get_weather(location: str = \"Austin, Texas\"):\n",
    "    \"\"\"This function gets weather temperature of a specific location\n",
    "    \n",
    "    Args:\n",
    "        location (str): The location for which the weather data is requested. Defaults to Austin, Texas.\n",
    "    \n",
    "    \"\"\"\n",
    "    return 50\n",
    "    "
   ]
  },
  {
   "cell_type": "code",
   "execution_count": 19,
   "metadata": {},
   "outputs": [
    {
     "data": {
      "text/html": [
       "<pre style=\"white-space:pre;overflow-x:auto;line-height:normal;font-family:Menlo,'DejaVu Sans Mono',consolas,'Courier New',monospace\"></pre>\n"
      ],
      "text/plain": []
     },
     "metadata": {},
     "output_type": "display_data"
    },
    {
     "data": {
      "text/plain": [
       "\n",
       "\u001b[1m{\u001b[0m\n",
       "    \u001b[32m'name'\u001b[0m: \u001b[32m'get_weather'\u001b[0m,\n",
       "    \u001b[32m'description'\u001b[0m: \u001b[32m'\\nThis function gets weather temperature of a specific location'\u001b[0m,\n",
       "    \u001b[32m'params'\u001b[0m: \u001b[1m{\u001b[0m\n",
       "        \u001b[32m'type'\u001b[0m: \u001b[32m'object'\u001b[0m,\n",
       "        \u001b[32m'properties'\u001b[0m: \u001b[1m{\u001b[0m\n",
       "            \u001b[32m'location'\u001b[0m: \u001b[1m{\u001b[0m\n",
       "                \u001b[32m'type'\u001b[0m: \u001b[32m'string'\u001b[0m,\n",
       "                \u001b[32m'description'\u001b[0m: \u001b[32m'The location for which the weather data is requested. Defaults to Austin, Texas.'\u001b[0m\n",
       "            \u001b[1m}\u001b[0m\n",
       "        \u001b[1m}\u001b[0m,\n",
       "        \u001b[32m'required'\u001b[0m: \u001b[1m[\u001b[0m\u001b[1m]\u001b[0m\n",
       "    \u001b[1m}\u001b[0m\n",
       "\u001b[1m}\u001b[0m"
      ]
     },
     "execution_count": 19,
     "metadata": {},
     "output_type": "execute_result"
    }
   ],
   "source": [
    "get_weather.signature"
   ]
  },
  {
   "cell_type": "code",
   "execution_count": 28,
   "metadata": {},
   "outputs": [],
   "source": [
    "doc = \"\"\"\n",
    "    Processes data based on the specified mode.\n",
    "\n",
    "    This function processes a list of data in either a 'fast' mode or an 'accurate' mode. \n",
    "    The 'fast' mode processes the data quickly with less precision, while the 'accurate' \n",
    "    mode processes data more thoroughly but takes longer.\n",
    "\n",
    "    Parameters\n",
    "    ----------\n",
    "    mode : Literal['fast', 'accurate']\n",
    "        The mode of processing. It can be either 'fast' for quick processing or 'accurate' \n",
    "        for more precise and thorough processing.\n",
    "    data : list\n",
    "        The data to be processed. This should be a list of values.\n",
    "\n",
    "    Returns\n",
    "    -------\n",
    "    list\n",
    "        The processed data. The nature of the processing depends on the selected mode.\n",
    "\n",
    "    Examples\n",
    "    --------\n",
    "    >>> process_data('fast', [1, 2, 3])\n",
    "    [Processed quickly: 1, 2, 3]\n",
    "\n",
    "    >>> process_data('accurate', [1, 2, 3])\n",
    "    [Processed accurately: 1, 2, 3]\n",
    "\n",
    "    Notes\n",
    "    -----\n",
    "    The 'fast' mode is suitable for large datasets where time efficiency is crucial. \n",
    "    The 'accurate' mode is better for smaller datasets where precision is more important.\n",
    "\n",
    "    \"\"\""
   ]
  },
  {
   "cell_type": "code",
   "execution_count": 29,
   "metadata": {},
   "outputs": [],
   "source": [
    "from docstring_parser import parse"
   ]
  },
  {
   "cell_type": "code",
   "execution_count": 30,
   "metadata": {},
   "outputs": [],
   "source": [
    "parsed = parse(doc)"
   ]
  },
  {
   "cell_type": "code",
   "execution_count": 33,
   "metadata": {},
   "outputs": [
    {
     "data": {
      "text/html": [
       "<pre style=\"white-space:pre;overflow-x:auto;line-height:normal;font-family:Menlo,'DejaVu Sans Mono',consolas,'Courier New',monospace\"></pre>\n"
      ],
      "text/plain": []
     },
     "metadata": {},
     "output_type": "display_data"
    },
    {
     "data": {
      "text/plain": [
       "\u001b[32m\"Literal\u001b[0m\u001b[32m[\u001b[0m\u001b[32m'fast', 'accurate'\u001b[0m\u001b[32m]\u001b[0m\u001b[32m\"\u001b[0m"
      ]
     },
     "execution_count": 33,
     "metadata": {},
     "output_type": "execute_result"
    }
   ],
   "source": [
    "parsed.params[0].type_name"
   ]
  },
  {
   "cell_type": "code",
   "execution_count": null,
   "metadata": {},
   "outputs": [],
   "source": []
  }
 ],
 "metadata": {
  "kernelspec": {
   "display_name": "oai_fn",
   "language": "python",
   "name": "oai_fn"
  },
  "language_info": {
   "codemirror_mode": {
    "name": "ipython",
    "version": 3
   },
   "file_extension": ".py",
   "mimetype": "text/x-python",
   "name": "python",
   "nbconvert_exporter": "python",
   "pygments_lexer": "ipython3",
   "version": "3.10.13"
  }
 },
 "nbformat": 4,
 "nbformat_minor": 5
}
